{
 "cells": [
  {
   "cell_type": "code",
   "execution_count": 1,
   "metadata": {},
   "outputs": [],
   "source": [
    "from astropy import coordinates,units,constants\n",
    "import numpy as np\n",
    "import matplotlib.pyplot as plt\n",
    "from astropy.io import ascii"
   ]
  },
  {
   "cell_type": "code",
   "execution_count": 19,
   "metadata": {},
   "outputs": [
    {
     "name": "stdout",
     "output_type": "stream",
     "text": [
      "Crab GP at 10kpc: 4.839406020110552 Jy\n",
      "       Name       Survey Class  RAdeg   ... r1/2  VMag Ref        CrabGP       \n",
      "                                 deg    ...  pc   mag               Jy         \n",
      "----------------- ------ ----- -------- ... ---- ----- --- --------------------\n",
      "        Antlia II     --     4 143.8868 ... 2301 -9.03   1  0.02777436880228737\n",
      "      Aquarius II    PS1     4 338.4813 ...  125  -4.4   2  0.04149010648242928\n",
      "         Bootes I    PS1     4   210.02 ...  160 -6.02   3  0.11109747520914948\n",
      "        Bootes II    PS1     4 209.5141 ...   33 -2.94   3   0.2743427449042263\n",
      "       Bootes III    PS1     4    209.3 ...  289 -5.75   4   0.2190767777324831\n",
      "        Bootes IV    PS1     3  233.689 ...  277 -4.53   5 0.011078972597034298\n",
      " Canes Venatici I    PS1     4 202.0091 ...  338  -8.8   3 0.010183078066051997\n",
      "Canes Venatici II    PS1     4 194.2927 ...   55 -5.17   3 0.018903929766056843\n",
      "           Carina     --     4 100.4065 ...  248 -9.43   3   0.0438948391846762\n",
      "        Carina II     --     4 114.1066 ...   77  -4.5   6  0.37341095834186355\n",
      "              ...    ...   ...      ... ...  ...   ... ...                  ...\n",
      "    Triangulum II    PS1     3  33.3252 ...   13  -1.6   3   0.5377117800122835\n",
      "        Tucana II    DES     4 342.9796 ...  165  -3.8  25   0.1438586807405039\n",
      "       Tucana III    DES     3   359.15 ...   44  -2.4   8   0.7743049632176883\n",
      "        Tucana IV    DES     4     0.73 ...  128  -3.5   8  0.21004366406729824\n",
      "         Tucana V    DES     3   354.35 ...   16  -1.6   8  0.15998036430117527\n",
      "     Ursa Major I    PS1     4 158.7706 ...  151 -5.12   3 0.051433797641731865\n",
      "    Ursa Major II    PS1     4 132.8726 ...   85 -4.25   3  0.47259824415142104\n",
      "       Ursa Minor    PS1     4  227.242 ...  272 -9.03   3  0.08378473026507187\n",
      "          Virgo I    PS1     3  180.038 ...   30 -0.33   9  0.05843987465415471\n",
      "        Willman 1    PS1     4 162.3436 ...   20 -2.53   3   0.3351389210602875\n",
      "Length = 61 rows\n"
     ]
    }
   ],
   "source": [
    "## load all satellite galaxies\n",
    "data = ascii.read(\"./Drlica-Wagner2020.txt\")\n",
    "\n",
    "## let's calculate the angular size of these galaxies ---## oops they're actually in the column ah\n",
    "distance=np.array(data['D'])## distance of these galaxies in kpc\n",
    "\n",
    "\n",
    "### Crab pulsar let's say 1kJy for a reasonable example?\n",
    "crabgp=1000*units.Jy \n",
    "crabgp=100*units.Jy ## 1.4 GHz based on -3.3 scale\n",
    "#crabgp=9.8e3*units.Jy ## 1kJy at 1.4 GHz \n",
    "\n",
    "\n",
    "\n",
    "crab=(7175*units.lightyear).to(units.kpc)\n",
    "crab_pf=14*units.mJy.to(units.Jy)\n",
    "\n",
    "vela_pf=1100*units.mJy.to(units.Jy)\n",
    "vela=0.28*units.kpc\n",
    "\n",
    "mockcrab=crabgp*crab**2/(distance*units.kpc)**2\n",
    "print('Crab GP at 10kpc:',crabgp*crab**2/(10*units.kpc)**2)\n",
    "\n",
    "data.add_column(col=mockcrab,name='CrabGP')\n",
    "print (data) ## if you want to have a look at the whole table"
   ]
  },
  {
   "cell_type": "code",
   "execution_count": 20,
   "metadata": {},
   "outputs": [
    {
     "data": {
      "text/html": [
       "<i>Table masked=True length=1</i>\n",
       "<table id=\"table2508885232720\" class=\"table-striped table-bordered table-condensed\">\n",
       "<thead><tr><th>Name</th><th>Survey</th><th>Class</th><th>RAdeg</th><th>DEdeg</th><th>m-M</th><th>ah</th><th>l_e</th><th>e</th><th>D</th><th>r1/2</th><th>VMag</th><th>Ref</th><th>CrabGP</th></tr></thead>\n",
       "<thead><tr><th></th><th></th><th></th><th>deg</th><th>deg</th><th>mag</th><th>arcmin</th><th></th><th></th><th>kpc</th><th>pc</th><th>mag</th><th></th><th>Jy</th></tr></thead>\n",
       "<thead><tr><th>str17</th><th>str8</th><th>int32</th><th>float64</th><th>float64</th><th>float64</th><th>float64</th><th>str1</th><th>float64</th><th>int32</th><th>int32</th><th>float64</th><th>str6</th><th>float64</th></tr></thead>\n",
       "<tr><td>Sagittarius II</td><td>PS1</td><td>4</td><td>298.1647</td><td>-22.0651</td><td>19.2</td><td>1.6</td><td>&lt;</td><td>0.1</td><td>69</td><td>32</td><td>-5.2</td><td>22</td><td>0.10164683932179272</td></tr>\n",
       "</table>"
      ],
      "text/plain": [
       "<Table masked=True length=1>\n",
       "     Name      Survey Class  RAdeg   ...  r1/2   VMag  Ref         CrabGP      \n",
       "                              deg    ...   pc    mag                 Jy        \n",
       "    str17       str8  int32 float64  ... int32 float64 str6       float64      \n",
       "-------------- ------ ----- -------- ... ----- ------- ---- -------------------\n",
       "Sagittarius II    PS1     4 298.1647 ...    32    -5.2   22 0.10164683932179272"
      ]
     },
     "execution_count": 20,
     "metadata": {},
     "output_type": "execute_result"
    }
   ],
   "source": [
    "data[data['Name']=='Sagittarius II']\n"
   ]
  },
  {
   "cell_type": "code",
   "execution_count": 21,
   "metadata": {},
   "outputs": [],
   "source": [
    "hi_query=np.loadtxt('query.txt',dtype=str,delimiter='\\t')[1:]\n",
    "#name          halpha_mag      h1_21_cm_mag                log_h1_mass\n",
    "logh1mass=hi_query.T[-1]\n"
   ]
  },
  {
   "cell_type": "code",
   "execution_count": 22,
   "metadata": {
    "scrolled": false
   },
   "outputs": [
    {
     "name": "stdout",
     "output_type": "stream",
     "text": [
      "[0.02777437 0.04149011 0.11109748 0.27434274 0.04389484 0.37341096\n",
      " 0.61727118 0.24996932 0.03535252 0.00335139 0.02239533 0.02777437\n",
      " 0.07754216 0.61727118 0.19357624 0.00750109 0.00891416 0.02040566\n",
      " 0.01527397 0.01046924 0.07024831 0.01460997 0.53771178 0.71588846\n",
      " 0.10164684 0.06858569 0.91482155 0.06543275 0.12589506 0.14385868\n",
      " 0.21004366] Jy\n",
      "Bootes I\n"
     ]
    },
    {
     "data": {
      "text/plain": [
       "masked_BaseColumn(data=[False, False,  True, False, False, False, False,\n",
       "                        False, False, False, False, False, False, False,\n",
       "                        False, False, False, False, False, False, False,\n",
       "                        False, False, False, False, False, False, False,\n",
       "                        False, False, False],\n",
       "                  mask=False,\n",
       "            fill_value=True)"
      ]
     },
     "execution_count": 22,
     "metadata": {},
     "output_type": "execute_result"
    }
   ],
   "source": [
    "### filter parkes sample\n",
    "##parkes dec -32.99839\n",
    "pks_targets=data[(data['DEdeg']<(-32.99839+90-30.25))*(data['Class']==4)]\n",
    "# print(pks_targets)\n",
    "print(pks_targets['CrabGP'])\n",
    "f=open(\"satellite gal names.txt\",'w')\n",
    "for i in pks_targets['RAdeg','DEdeg']:\n",
    "    f.write(str(i[0])+\" \"+str(i[1])+\"; \")\n",
    "#     print(i[0],i[1])\n",
    "f.close()\n",
    "\n",
    "# for i in pks_targets:\n",
    "#     print(i[\"CrabGP\"])\n",
    "print(hi_query[0][0])\n",
    "pks_targets[\"Name\"]==hi_query[0][0]"
   ]
  },
  {
   "cell_type": "code",
   "execution_count": 23,
   "metadata": {},
   "outputs": [
    {
     "data": {
      "image/png": "[encoded data removed]",
      "text/plain": [
       "<Figure size 432x288 with 1 Axes>"
      ]
     },
     "metadata": {
      "needs_background": "light"
     },
     "output_type": "display_data"
    },
    {
     "data": {
      "image/png": "[encoded data removed]",
      "text/plain": [
       "<Figure size 432x288 with 1 Axes>"
      ]
     },
     "metadata": {
      "needs_background": "light"
     },
     "output_type": "display_data"
    }
   ],
   "source": [
    "plt.hist(pks_targets['ah'],bins=30)\n",
    "plt.xlabel(\"Arcmin\")\n",
    "plt.show()\n",
    "plt.hist(pks_targets['D'],bins=30)\n",
    "plt.xlabel(\"kpc\")\n",
    "plt.show()"
   ]
  },
  {
   "cell_type": "code",
   "execution_count": 24,
   "metadata": {},
   "outputs": [
    {
     "name": "stdout",
     "output_type": "stream",
     "text": [
      "Parkes Radio Telescope UWL\n",
      "0.05081868107721053 Jy ms for single pulse total\n",
      "4.599581952083462 Jy ms\n",
      "1 hour integration sensitivity 2.678379664828073e-05\n"
     ]
    }
   ],
   "source": [
    "###radiometer equation\n",
    "def radiofunc(sigma,tsys,tsky,G,B,tobs):\n",
    "    return (sigma*(tsys+tsky))/(G*np.sqrt(2*B*tobs))\n",
    "### an sefd way of estimation\n",
    "def sefd_rms(sigma,sefd,tobs,b):\n",
    "    return (sefd/np.sqrt(tobs*b)*sigma)\n",
    "\n",
    "tsky=2.5 ###kelvin\n",
    "\n",
    "\n",
    "###parkes telescope UWL\n",
    "pks_tsys=21\n",
    "pks_g=1.8\n",
    "#pks_sefd=29\n",
    "pks_b=(4-0.7)*1e9 ###Hz\n",
    "\n",
    "single_bw=pks_b/8192\n",
    "tobs=0.001 ###width or integration time ##seconds\n",
    "print(\"Parkes Radio Telescope UWL\")\n",
    "pks_sens=radiofunc(10,pks_tsys,tsky,pks_g,pks_b,tobs)\n",
    "singlechan_sens=radiofunc(10,pks_tsys,tsky,pks_g,single_bw,tobs)\n",
    "\n",
    "print(pks_sens,\"Jy ms for single pulse total\")\n",
    "print(singlechan_sens, \"Jy ms\")\n",
    "\n",
    "print(\"1 hour integration sensitivity\",radiofunc(10,pks_tsys,tsky,pks_g,pks_b,3600) )"
   ]
  },
  {
   "cell_type": "code",
   "execution_count": 25,
   "metadata": {},
   "outputs": [
    {
     "name": "stdout",
     "output_type": "stream",
     "text": [
      "one kilojansky pulse every 33.3924123 seconds\n",
      "1.4 GHz flux 0.10153154954452945\n",
      "1kJy 1.4 GHz flux- ---> translates to 9.849155306759329\n"
     ]
    },
    {
     "data": {
      "image/png": "[encoded data removed]",
      "text/plain": [
       "<Figure size 432x288 with 1 Axes>"
      ]
     },
     "metadata": {
      "needs_background": "light"
     },
     "output_type": "display_data"
    },
    {
     "data": {
      "image/png": "[encoded data removed]",
      "text/plain": [
       "<Figure size 432x288 with 1 Axes>"
      ]
     },
     "metadata": {
      "needs_background": "light"
     },
     "output_type": "display_data"
    }
   ],
   "source": [
    "#Crab GP\n",
    "#1 kJy ms pulse ~ 0.1% of all rotations\n",
    "# crab period 0.0333924123 s\n",
    "\n",
    "tobs_1p=0.0333924123/0.001\n",
    "print (\"one kilojansky pulse every\",tobs_1p,\"seconds\")\n",
    "\n",
    "plt.plot(np.arange(0.7,4,0.1),tobs_1p*(np.arange(0.7,4,0.1)/0.7)**(-3.3))\n",
    "plt.ylabel(\"Time (Seconds)\")\n",
    "\n",
    "# plt.plot(np.arange(0.7,4,0.1),1*(np.arange(0.7,4,0.1)/0.7)**(-2.3))\n",
    "# plt.ylabel(\"Flux Jy\")\n",
    "plt.xlabel(\"Frequency (GHz)\")\n",
    "plt.figure()\n",
    "plt.plot(np.arange(0.7,4,0.1),1*(np.arange(0.7,4,0.1)/0.7)**(-3.3))\n",
    "print (\"1.4 GHz flux\",1*2**(-3.3))\n",
    "print (\"1kJy 1.4 GHz flux- ---> translates to\",1/2**(-3.3))\n",
    "\n",
    "plt.xlabel(\"Frequency (GHz)\")\n",
    "plt.ylabel(\"Flux (kJy)\")\n",
    "plt.show()"
   ]
  },
  {
   "cell_type": "code",
   "execution_count": 26,
   "metadata": {},
   "outputs": [
    {
     "name": "stdout",
     "output_type": "stream",
     "text": [
      "gbt fov is 0.03693\n",
      "planned CRAFT-GP total FOV is 3664.353671 deg $^2$\n",
      "real CRAFT-GP total coverage is 34692.451599 deg $^2$ hrs\n"
     ]
    },
    {
     "ename": "NameError",
     "evalue": "name 'gbt_sens' is not defined",
     "output_type": "error",
     "traceback": [
      "\u001b[1;31m---------------------------------------------------------------------------\u001b[0m",
      "\u001b[1;31mNameError\u001b[0m                                 Traceback (most recent call last)",
      "\u001b[1;32m<ipython-input-26-c93dbc9fb5bd>\u001b[0m in \u001b[0;36m<module>\u001b[1;34m\u001b[0m\n\u001b[0;32m     40\u001b[0m \u001b[0mgbt_start\u001b[0m\u001b[1;33m=\u001b[0m\u001b[1;36m10\u001b[0m\u001b[1;31m#*gbt\u001b[0m\u001b[1;33m\u001b[0m\u001b[1;33m\u001b[0m\u001b[0m\n\u001b[0;32m     41\u001b[0m \u001b[0mgbt_x\u001b[0m\u001b[1;33m=\u001b[0m\u001b[0mnp\u001b[0m\u001b[1;33m.\u001b[0m\u001b[0marray\u001b[0m\u001b[1;33m(\u001b[0m\u001b[1;33m[\u001b[0m\u001b[1;36m1e2\u001b[0m\u001b[1;33m,\u001b[0m\u001b[0mgbt_start\u001b[0m\u001b[1;33m,\u001b[0m\u001b[1;36m1e-5\u001b[0m\u001b[1;33m]\u001b[0m\u001b[1;33m)\u001b[0m\u001b[1;33m\u001b[0m\u001b[1;33m\u001b[0m\u001b[0m\n\u001b[1;32m---> 42\u001b[1;33m \u001b[0mgbt_y\u001b[0m\u001b[1;33m=\u001b[0m\u001b[0mgbt_x\u001b[0m\u001b[1;33m*\u001b[0m\u001b[1;36m0\u001b[0m\u001b[1;33m+\u001b[0m\u001b[0mgbt_sens\u001b[0m\u001b[1;33m\u001b[0m\u001b[1;33m\u001b[0m\u001b[0m\n\u001b[0m\u001b[0;32m     43\u001b[0m \u001b[1;33m\u001b[0m\u001b[0m\n\u001b[0;32m     44\u001b[0m \u001b[0malfa_start\u001b[0m\u001b[1;33m=\u001b[0m\u001b[1;36m10\u001b[0m\u001b[1;31m#*gbt\u001b[0m\u001b[1;33m\u001b[0m\u001b[1;33m\u001b[0m\u001b[0m\n",
      "\u001b[1;31mNameError\u001b[0m: name 'gbt_sens' is not defined"
     ]
    }
   ],
   "source": [
    "###survey times in seconds\n",
    "\n",
    "pmbs_time=2100\n",
    "htru_time=4300\n",
    "askap_t=10*3600 ##hrs\n",
    "superb_t=560\n",
    "\n",
    "utmost=9\n",
    "#### craft-gp has 63.117 antenna_days\n",
    "gp_total=63.117*24 ###hours\n",
    "####parkes and ASKAP FOV\n",
    "askap=22.9022104447\n",
    "parkes=0.5558873668\n",
    "palfa=0.01713858784 ##3.35 arcmin (3.35/2/60)^2*7*pi\n",
    "gbt=0.03692682 ##13 arcmin (3.35/2/60)^2*7*pi\n",
    "print(\"gbt fov is %.5f\"%((13.01/2/60)**2*np.pi))\n",
    "print(\"planned CRAFT-GP total FOV is %f deg $^2$\"%(askap*160))\n",
    "print(\"real CRAFT-GP total coverage is %f deg $^2$ hrs\"%(askap*63.117*24))\n",
    "#####this needs to be fixed\n",
    "\n",
    "pmbs_start=2100/3600#*0.5558873668\n",
    "pmbs_x=np.array([1e2,pmbs_start,1e-5])\n",
    "pmbs_y=pmbs_x*0+pks_sens\n",
    "\n",
    "htru_start=4300/3600#*0.5558873668\n",
    "htru_x=np.array([1e2,htru_start,1e-5])\n",
    "htru_y=htru_x*0+pks_sens\n",
    "\n",
    "utmost10=10#*utmost\n",
    "utmost_sens=3\n",
    "utmost_start=10#*22.9022104447\n",
    "utmost_x=np.array([1e2,utmost_start,1e-5])\n",
    "utmost_y=utmost_x*0+3\n",
    "\n",
    "askap_start=10#*22.9022104447\n",
    "askap_x=np.array([1e2,askap_start,1e-5])\n",
    "askap_y=askap_x*0+2*10\n",
    "\n",
    "\n",
    "gbt_start=10#*gbt\n",
    "gbt_x=np.array([1e2,gbt_start,1e-5])\n",
    "gbt_y=gbt_x*0+gbt_sens\n",
    "\n",
    "alfa_start=10#*gbt\n",
    "alfa_x=np.array([1e2,alfa_start,1e-5])\n",
    "alfa_y=alfa_x*0+alfa_sens\n",
    "\n",
    "superb_s=560/3600#*0.5558873668\n",
    "superb_x=np.array([1e2,superb_s,1e-5])\n",
    "superb_y=superb_x*0+pks_sens\n",
    "\n",
    "##### log normal pulse stack distribution\n",
    "\n",
    "def log_normal(sigma,mu,x):\n",
    "    pdf = (np.exp(-(np.log(x) - mu)**2 / (2 * (sigma**2)))/ (x * sigma * np.sqrt(2 * np.pi)))\n",
    "    ##e^(-(log(x) - μ)^2/(2 σ^2))/(sqrt(2 π) σ x)\n",
    "    return pdf\n",
    "\n",
    "def gauss_normal(x):\n",
    "    pdf=np.exp(-(x)**2/(2 * 1**2))/ (1 * np.sqrt(2 * np.pi))\n",
    "    return pdf\n",
    "print(log_normal(0.1,1.0,1))"
   ]
  },
  {
   "cell_type": "code",
   "execution_count": 28,
   "metadata": {},
   "outputs": [
    {
     "ename": "NameError",
     "evalue": "name 'b_rate' is not defined",
     "output_type": "error",
     "traceback": [
      "\u001b[1;31m---------------------------------------------------------------------------\u001b[0m",
      "\u001b[1;31mNameError\u001b[0m                                 Traceback (most recent call last)",
      "\u001b[1;32m<ipython-input-28-08a56a17020f>\u001b[0m in \u001b[0;36m<module>\u001b[1;34m\u001b[0m\n\u001b[0;32m      5\u001b[0m \u001b[1;31m# b_flux=np.loadtxt('../cat/b_rates_flux')\u001b[0m\u001b[1;33m\u001b[0m\u001b[1;33m\u001b[0m\u001b[1;33m\u001b[0m\u001b[0m\n\u001b[0;32m      6\u001b[0m \u001b[1;33m\u001b[0m\u001b[0m\n\u001b[1;32m----> 7\u001b[1;33m \u001b[0moc\u001b[0m\u001b[1;33m=\u001b[0m\u001b[0mb_rate\u001b[0m\u001b[1;31m#/3600\u001b[0m\u001b[1;33m\u001b[0m\u001b[1;33m\u001b[0m\u001b[0m\n\u001b[0m\u001b[0;32m      8\u001b[0m \u001b[0mflux\u001b[0m\u001b[1;33m=\u001b[0m\u001b[0mb_flux\u001b[0m\u001b[1;33m/\u001b[0m\u001b[1;36m1000\u001b[0m\u001b[1;33m\u001b[0m\u001b[1;33m\u001b[0m\u001b[0m\n\u001b[0;32m      9\u001b[0m \u001b[1;33m\u001b[0m\u001b[0m\n",
      "\u001b[1;31mNameError\u001b[0m: name 'b_rate' is not defined"
     ]
    },
    {
     "data": {
      "text/plain": [
       "<Figure size 576x648 with 0 Axes>"
      ]
     },
     "metadata": {},
     "output_type": "display_data"
    }
   ],
   "source": [
    "plt.figure(figsize=(8,9))\n",
    "from scipy import signal\n",
    "b_rate=np.loadtxt('../cat/b_rates')\n",
    "b_wd=np.loadtxt('../cat/b_wd')\n",
    "b_flux=np.loadtxt('../cat/b_rates_flux')\n",
    "\n",
    "oc=b_rate#/3600\n",
    "flux=b_flux/1000\n",
    "\n",
    "max=np.where(flux==flux.max())[0][0]\n",
    "###oc[max],flux[max]\n",
    "###normalized energy value is\n",
    "lgn_e=flux[max]\n",
    "print(oc[max],lgn_e)\n",
    "\n",
    "lgn_sig=0.15\n",
    "lgn_mu=1.5\n",
    "\n",
    "distr=np.arange(0.01,10,0.01)\n",
    "#fluxx3=log_normal(lgn_sig,lgn_mu,5)\n",
    "fdistr=log_normal(lgn_sig,lgn_mu,distr)\n",
    "distr=np.arange(0.01,10,0.01)\n",
    "distr2=np.arange(-3,3,0.01)\n",
    "\n",
    "#fluxx3=log_normal(lgn_sig,lgn_mu,3)\n",
    "fdistr=log_normal(lgn_sig,lgn_mu,distr)\n",
    "g_noise=gauss_normal(distr2)\n",
    "\n",
    "\n",
    "max=np.where(flux==flux.max())[0][0]\n",
    "\n",
    "\n",
    "\n",
    "res=signal.convolve(fdistr, g_noise, mode='same') / sum(fdistr)\n",
    "#print (distr2)\n",
    "apos=np.where(res==res.max())\n",
    "x_res=np.linspace(0,10,len(res))\n",
    "dpos=x_res[apos]-1\n",
    "x_res=x_res-dpos\n",
    "#print(np.intersect1d(np.where(x_res>5),np.where(x_res<5.01)))\n",
    "sig5pos=np.intersect1d(np.where(x_res>5),np.where(x_res<5.01))[0]\n",
    "print(res.max())\n",
    "#print(sum(fdistr*distr))\n",
    "#print(fluxx3,fluxx3*oc[max])\n",
    "\n",
    "\n",
    "plt.xscale('log')\n",
    "plt.yscale('log')\n",
    "plt.ylabel('Flux Density (Jy)')\n",
    "plt.xlabel(\"Telescope $\\\\tau_{Obs}$ (Hrs$^{-1}$)\")\n",
    "\n",
    "\n",
    "crab_rate=1/(tobs_1p*(1.4/0.7)**(-2.3))*3600\n",
    "# plt.plot([crab_rate,crab_rate],[1e-2,1000],label='rate at 1.4GHz crab 1kJy GP')\n",
    "k=-200\n",
    "for i in pks_targets:\n",
    "    plt.plot([crab_rate-10,crab_rate+100],[i[\"CrabGP\"].value,i[\"CrabGP\"].value])\n",
    "    plt.annotate(i[\"Name\"],(crab_rate+2*k,i[\"CrabGP\"].value))\n",
    "    k=k*-1\n",
    "    \n",
    "plt.plot([1e-1,1e6],[pks_sens,pks_sens],'--',c='C0',linewidth=3,label=\"Parkes 10 sigma pulse fluence\")\n",
    "plt.scatter(oc[max],flux[max],s=100,marker=\"d\",c='red',label='Brightest RRAT')\n",
    "#plt.plot(oc[max]*fdistr,flux[max]*distr)\n",
    "plt.plot(oc[max]*res,flux[max]*x_res,label=\"pdf distribution * measured rate\")\n",
    "plt.xlim(1e-1,1e6)\n",
    "plt.ylim(1e-2,1.5e2)\n",
    "#plt.grid(True)\n",
    "plt.legend(loc=3)\n",
    "plt.tight_layout()\n",
    "plt.savefig(\"rrat_space.pdf\")\n",
    "plt.show()\n",
    "#print(pmbs_y)\n",
    "print(len(oc))"
   ]
  },
  {
   "cell_type": "code",
   "execution_count": null,
   "metadata": {},
   "outputs": [],
   "source": []
  },
  {
   "cell_type": "code",
   "execution_count": null,
   "metadata": {
    "collapsed": true
   },
   "outputs": [],
   "source": [
    "#LeoIV "
   ]
  }
 ],
 "metadata": {
  "anaconda-cloud": {},
  "kernelspec": {
   "display_name": "Python 3",
   "language": "python",
   "name": "python3"
  },
  "language_info": {
   "codemirror_mode": {
    "name": "ipython",
    "version": 3
   },
   "file_extension": ".py",
   "mimetype": "text/x-python",
   "name": "python",
   "nbconvert_exporter": "python",
   "pygments_lexer": "ipython3",
   "version": "3.7.3"
  }
 },
 "nbformat": 4,
 "nbformat_minor": 2
}
