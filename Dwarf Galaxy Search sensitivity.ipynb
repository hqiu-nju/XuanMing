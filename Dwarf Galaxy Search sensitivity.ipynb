{
 "cells": [
  {
   "cell_type": "code",
   "execution_count": 2,
   "metadata": {},
   "outputs": [],
   "source": [
    "from astropy import coordinates,units,constants\n",
    "import numpy as np\n",
    "import matplotlib.pyplot as plt\n",
    "from astropy.io import ascii"
   ]
  },
  {
   "cell_type": "code",
   "execution_count": 3,
   "metadata": {},
   "outputs": [
    {
     "name": "stdout",
     "output_type": "stream",
     "text": [
      "Crab GP at 10kpc: 48.394060201105525 Jy\n",
      "       Name       Survey Class  RAdeg   ...  VMag Ref Example Crab GP luminosity\n",
      "                                 deg    ...  mag                  Jy            \n",
      "----------------- ------ ----- -------- ... ----- --- --------------------------\n",
      "        Antlia II     --     4 143.8868 ... -9.03   1        0.27774368802287375\n",
      "      Aquarius II    PS1     4 338.4813 ...  -4.4   2         0.4149010648242929\n",
      "         Bootes I    PS1     4   210.02 ... -6.02   3          1.110974752091495\n",
      "        Bootes II    PS1     4 209.5141 ... -2.94   3          2.743427449042263\n",
      "       Bootes III    PS1     4    209.3 ... -5.75   4         2.1907677773248313\n",
      "        Bootes IV    PS1     3  233.689 ... -4.53   5        0.11078972597034299\n",
      " Canes Venatici I    PS1     4 202.0091 ...  -8.8   3           0.10183078066052\n",
      "Canes Venatici II    PS1     4 194.2927 ... -5.17   3        0.18903929766056846\n",
      "           Carina     --     4 100.4065 ... -9.43   3         0.4389483918467621\n",
      "        Carina II     --     4 114.1066 ...  -4.5   6         3.7341095834186357\n",
      "              ...    ...   ...      ... ...   ... ...                        ...\n",
      "    Triangulum II    PS1     3  33.3252 ...  -1.6   3          5.377117800122836\n",
      "        Tucana II    DES     4 342.9796 ...  -3.8  25         1.4385868074050392\n",
      "       Tucana III    DES     3   359.15 ...  -2.4   8          7.743049632176883\n",
      "        Tucana IV    DES     4     0.73 ...  -3.5   8          2.100436640672983\n",
      "         Tucana V    DES     3   354.35 ...  -1.6   8         1.5998036430117528\n",
      "     Ursa Major I    PS1     4 158.7706 ... -5.12   3         0.5143379764173187\n",
      "    Ursa Major II    PS1     4 132.8726 ... -4.25   3          4.725982441514211\n",
      "       Ursa Minor    PS1     4  227.242 ... -9.03   3         0.8378473026507188\n",
      "          Virgo I    PS1     3  180.038 ... -0.33   9         0.5843987465415472\n",
      "        Willman 1    PS1     4 162.3436 ... -2.53   3         3.3513892106028753\n",
      "Length = 61 rows\n"
     ]
    }
   ],
   "source": [
    "## load all satellite galaxies\n",
    "data = ascii.read(\"./Drlica-Wagner2020.txt\")\n",
    "\n",
    "## let's calculate the angular size of these galaxies ---## oops they're actually in the column ah\n",
    "distance=np.array(data['D'])## distance of these galaxies in kpc\n",
    "\n",
    "\n",
    "### Crab pulsar let's say 1kJy for a reasonable example?\n",
    "crabgp=1000*units.Jy \n",
    "\n",
    "\n",
    "crab=(7175*units.lightyear).to(units.kpc)\n",
    "crab_pf=14*units.mJy.to(units.Jy)\n",
    "\n",
    "vela_pf=1100*units.mJy.to(units.Jy)\n",
    "vela=0.28*units.kpc\n",
    "\n",
    "mockcrab=crabgp*crab**2/(distance*units.kpc)**2\n",
    "print('Crab GP at 10kpc:',crabgp*crab**2/(10*units.kpc)**2)\n",
    "\n",
    "data.add_column(col=mockcrab,name='Example Crab GP luminosity')\n",
    "print (data) ## if you want to have a look at the whole table"
   ]
  },
  {
   "cell_type": "code",
   "execution_count": 4,
   "metadata": {},
   "outputs": [
    {
     "data": {
      "text/html": [
       "<i>Table masked=True length=1</i>\n",
       "<table id=\"table2634010353168\" class=\"table-striped table-bordered table-condensed\">\n",
       "<thead><tr><th>Name</th><th>Survey</th><th>Class</th><th>RAdeg</th><th>DEdeg</th><th>m-M</th><th>ah</th><th>l_e</th><th>e</th><th>D</th><th>r1/2</th><th>VMag</th><th>Ref</th><th>Example Crab GP luminosity</th></tr></thead>\n",
       "<thead><tr><th></th><th></th><th></th><th>deg</th><th>deg</th><th>mag</th><th>arcmin</th><th></th><th></th><th>kpc</th><th>pc</th><th>mag</th><th></th><th>Jy</th></tr></thead>\n",
       "<thead><tr><th>str17</th><th>str8</th><th>int32</th><th>float64</th><th>float64</th><th>float64</th><th>float64</th><th>str1</th><th>float64</th><th>int32</th><th>int32</th><th>float64</th><th>str6</th><th>float64</th></tr></thead>\n",
       "<tr><td>Sagittarius II</td><td>PS1</td><td>4</td><td>298.1647</td><td>-22.0651</td><td>19.2</td><td>1.6</td><td>&lt;</td><td>0.1</td><td>69</td><td>32</td><td>-5.2</td><td>22</td><td>1.0164683932179273</td></tr>\n",
       "</table>"
      ],
      "text/plain": [
       "<Table masked=True length=1>\n",
       "     Name      Survey Class  RAdeg   ...   VMag  Ref  Example Crab GP luminosity\n",
       "                              deg    ...   mag                    Jy            \n",
       "    str17       str8  int32 float64  ... float64 str6          float64          \n",
       "-------------- ------ ----- -------- ... ------- ---- --------------------------\n",
       "Sagittarius II    PS1     4 298.1647 ...    -5.2   22         1.0164683932179273"
      ]
     },
     "execution_count": 4,
     "metadata": {},
     "output_type": "execute_result"
    }
   ],
   "source": [
    "data[data['Name']=='Sagittarius II']"
   ]
  },
  {
   "cell_type": "code",
   "execution_count": 7,
   "metadata": {
    "scrolled": true
   },
   "outputs": [
    {
     "name": "stdout",
     "output_type": "stream",
     "text": [
      "     Name      Survey Class ...  VMag   Ref   Example Crab GP luminosity\n",
      "                            ...  mag                      Jy            \n",
      "-------------- ------ ----- ... ------ ------ --------------------------\n",
      "     Antlia II     --     4 ...  -9.03      1        0.27774368802287375\n",
      "   Aquarius II    PS1     4 ...   -4.4      2         0.4149010648242929\n",
      "      Bootes I    PS1     4 ...  -6.02      3          1.110974752091495\n",
      "     Bootes II    PS1     4 ...  -2.94      3          2.743427449042263\n",
      "        Carina     --     4 ...  -9.43      3         0.4389483918467621\n",
      "     Carina II     --     4 ...   -4.5      6         3.7341095834186357\n",
      "    Carina III     --     4 ...   -2.4      6          6.172711760345092\n",
      "Coma Berenices    PS1     4 ...  -4.38      3          2.499693192205864\n",
      "     Crater II    PS1     4 ...   -8.2     11        0.35352516766093595\n",
      "   Eridanus II    DES     4 ...  -7.21      3        0.03351389210602875\n",
      "           ...    ...   ... ...    ...    ...                        ...\n",
      "     Pisces II    PS1     4 ...  -4.22      3         0.1460996866353868\n",
      "  Reticulum II    DES     4 ...  -3.88      3          5.377117800122836\n",
      "   Sagittarius     --     4 ...  -13.5     21          7.158884645133953\n",
      "Sagittarius II    PS1     4 ...   -5.2     22         1.0164683932179273\n",
      "      Sculptor    DES     4 ... -10.82  3; 23         0.6858568622605657\n",
      "       Segue 1    PS1     4 ...   -1.3      3          9.148215538961347\n",
      "       Sextans    PS1     4 ...  -8.72      3         0.6543274770295501\n",
      "           SMC     --     4 ... -17.18 17; 24         1.2589505775521728\n",
      "     Tucana II    DES     4 ...   -3.8     25         1.4385868074050392\n",
      "     Tucana IV    DES     4 ...   -3.5      8          2.100436640672983\n",
      "Length = 31 rows\n"
     ]
    }
   ],
   "source": [
    "### filter parkes sample\n",
    "##parkes dec -32.99839\n",
    "pks_targets=data[(data['DEdeg']<(-32.99839+90-30.25))*(data['Class']==4)]\n",
    "print(pks_targets)"
   ]
  },
  {
   "cell_type": "code",
   "execution_count": 9,
   "metadata": {},
   "outputs": [
    {
     "data": {
      "image/png": "[encoded data removed]",
      "text/plain": [
       "<Figure size 432x288 with 1 Axes>"
      ]
     },
     "metadata": {
      "needs_background": "light"
     },
     "output_type": "display_data"
    }
   ],
   "source": [
    "plt.hist(pks_targets['ah'],bins=30)\n",
    "plt.xlabel(\"Arcmin\")\n",
    "plt.show()"
   ]
  },
  {
   "cell_type": "code",
   "execution_count": 5,
   "metadata": {},
   "outputs": [
    {
     "name": "stdout",
     "output_type": "stream",
     "text": [
      "CRAFT\n",
      "15.430334996209192\n",
      "0.06528614147578675\n",
      "utmost\n",
      "3.035786553761644\n",
      "Parkes Radio Telescope\n",
      "0.24607647839237515 Jy\n",
      "0.4901894677425396\n",
      "Green Bank Telescope\n",
      "0.11840283260644895 Jy\n",
      "Arecibo L-band Feed Array\n",
      "0.08273451516749221 Jy\n"
     ]
    }
   ],
   "source": [
    "###radiometer equation\n",
    "def radiofunc(sigma,tsys,tsky,G,B,tobs):\n",
    "    return (sigma*(tsys+tsky))/(G*np.sqrt(2*B*tobs))\n",
    "### an sefd way of estimation\n",
    "def sefd_rms(sigma,sefd,tobs,b):\n",
    "    return (sefd/np.sqrt(tobs*b)*sigma)\n",
    "\n",
    "tsky=7 ###kelvin\n",
    "###askap\n",
    "craft_sefd=2000\n",
    "craft_b=336e6\n",
    "tobs=5e-3\n",
    "print(\"CRAFT\")\n",
    "print(sefd_rms(10,craft_sefd,tobs,craft_b))\n",
    "print(sefd_rms(10,craft_sefd,tobs*55861,craft_b))\n",
    "###utmost\n",
    "utmost_sefd=120\n",
    "utm_b=31.25e6\n",
    "tobs=5e-3\n",
    "print(\"utmost\")\n",
    "print(sefd_rms(10,utmost_sefd,tobs,utm_b))\n",
    "\n",
    "###parkes telescope param\n",
    "pks_tsys=21\n",
    "pks_g=1.36\n",
    "pks_sefd=29\n",
    "pks_b=350e6 ###Hz\n",
    "tobs=1e-3 ###width or integration time ##seconds\n",
    "print(\"Parkes Radio Telescope\")\n",
    "pks_sens=radiofunc(10,pks_tsys,tsky,pks_g,pks_b,tobs)\n",
    "print(pks_sens,\"Jy\")\n",
    "print(sefd_rms(10,pks_sefd,tobs,pks_b))\n",
    "#####GBT\n",
    "gbt_tsys=20\n",
    "gbt_g=2.0\n",
    "gbt_b=650e6\n",
    "print(\"Green Bank Telescope\")\n",
    "gbt_sens=radiofunc(10,gbt_tsys,tsky,gbt_g,gbt_b,tobs)\n",
    "print(gbt_sens,\"Jy\")\n",
    "\n",
    "\n",
    "#####Arecibo\n",
    "alfa_tsys=30\n",
    "alfa_g=10\n",
    "alfa_b=100e6\n",
    "print(\"Arecibo L-band Feed Array\")\n",
    "alfa_sens=radiofunc(10,alfa_tsys,tsky,alfa_g,alfa_b,tobs)\n",
    "print(alfa_sens,\"Jy\")\n"
   ]
  },
  {
   "cell_type": "code",
   "execution_count": null,
   "metadata": {},
   "outputs": [],
   "source": []
  }
 ],
 "metadata": {
  "anaconda-cloud": {},
  "kernelspec": {
   "display_name": "Python 3",
   "language": "python",
   "name": "python3"
  },
  "language_info": {
   "codemirror_mode": {
    "name": "ipython",
    "version": 3
   },
   "file_extension": ".py",
   "mimetype": "text/x-python",
   "name": "python",
   "nbconvert_exporter": "python",
   "pygments_lexer": "ipython3",
   "version": "3.8.5"
  }
 },
 "nbformat": 4,
 "nbformat_minor": 2
}
