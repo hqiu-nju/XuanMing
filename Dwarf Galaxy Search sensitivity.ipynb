{
 "cells": [
  {
   "cell_type": "code",
   "execution_count": 42,
   "metadata": {
    "collapsed": true
   },
   "outputs": [],
   "source": [
    "from astropy import coordinates,units,constants\n",
    "import numpy as np\n",
    "import matplotlib.pyplot as plt\n",
    "from astropy.io import ascii"
   ]
  },
  {
   "cell_type": "code",
   "execution_count": 47,
   "metadata": {
    "collapsed": false
   },
   "outputs": [],
   "source": [
    "## load all satellite galaxies\n",
    "data = ascii.read(\"./Drlica-Wagner2020.txt\")\n",
    "\n",
    "## let's calculate the angular size of these galaxies\n",
    "distance=np.array(data['D'])## distance of these galaxies in kpc\n",
    "\n",
    "\n",
    "### Crab pulsar lets say 1kJy for a reasonable example?\n",
    "crabgp=1000*units.Jy \n",
    "\n",
    "\n",
    "crab=(7175*units.lightyear).to(units.kpc)\n",
    "crab_pf=14*units.mJy.to(units.Jy)\n",
    "\n",
    "vela_pf=1100*units.mJy.to(units.Jy)\n",
    "vela=0.28*units.kpc"
   ]
  },
  {
   "cell_type": "code",
   "execution_count": 53,
   "metadata": {
    "collapsed": false
   },
   "outputs": [
    {
     "name": "stdout",
     "output_type": "stream",
     "text": [
      "Crab GP at 10kpc: 48.394060201105525 Jy\n"
     ]
    }
   ],
   "source": [
    "mockcrab=crabgp*crab**2/(distance*units.kpc)**2\n",
    "print('Crab GP at 10kpc:',crabgp*crab**2/(10*units.kpc)**2)"
   ]
  },
  {
   "cell_type": "code",
   "execution_count": 49,
   "metadata": {
    "collapsed": false
   },
   "outputs": [],
   "source": [
    "data.add_column(col=mockcrab,name='Example Crab GP luminosity')"
   ]
  },
  {
   "cell_type": "code",
   "execution_count": 50,
   "metadata": {
    "collapsed": false
   },
   "outputs": [
    {
     "data": {
      "text/html": [
       "<i>Table masked=True length=61</i>\n",
       "<table id=\"table140464811658208\" class=\"table-striped table-bordered table-condensed\">\n",
       "<thead><tr><th>Name</th><th>Survey</th><th>Class</th><th>RAdeg</th><th>DEdeg</th><th>m-M</th><th>ah</th><th>l_e</th><th>e</th><th>D</th><th>r1/2</th><th>VMag</th><th>Ref</th><th>Example Crab GP luminosity</th></tr></thead>\n",
       "<thead><tr><th></th><th></th><th></th><th>deg</th><th>deg</th><th>mag</th><th>arcmin</th><th></th><th></th><th>kpc</th><th>pc</th><th>mag</th><th></th><th>Jy</th></tr></thead>\n",
       "<thead><tr><th>str17</th><th>str8</th><th>int64</th><th>float64</th><th>float64</th><th>float64</th><th>float64</th><th>str1</th><th>float64</th><th>int64</th><th>int64</th><th>float64</th><th>str6</th><th>float64</th></tr></thead>\n",
       "<tr><td>Antlia II</td><td>--</td><td>4</td><td>143.8868</td><td>-36.7673</td><td>20.6</td><td>76.2</td><td>--</td><td>0.38</td><td>132</td><td>2301</td><td>-9.03</td><td>1</td><td>0.27774368802287375</td></tr>\n",
       "<tr><td>Aquarius II</td><td>PS1</td><td>4</td><td>338.4813</td><td>-9.3274</td><td>20.2</td><td>5.1</td><td>--</td><td>0.39</td><td>108</td><td>125</td><td>-4.4</td><td>2</td><td>0.4149010648242929</td></tr>\n",
       "<tr><td>Bootes I</td><td>PS1</td><td>4</td><td>210.02</td><td>14.5135</td><td>19.1</td><td>9.97</td><td>--</td><td>0.3</td><td>66</td><td>160</td><td>-6.02</td><td>3</td><td>1.110974752091495</td></tr>\n",
       "<tr><td>Bootes II</td><td>PS1</td><td>4</td><td>209.5141</td><td>12.8553</td><td>18.1</td><td>3.17</td><td>--</td><td>0.25</td><td>42</td><td>33</td><td>-2.94</td><td>3</td><td>2.743427449042263</td></tr>\n",
       "<tr><td>Bootes III</td><td>PS1</td><td>4</td><td>209.3</td><td>26.8</td><td>18.4</td><td>30.0</td><td>--</td><td>0.5</td><td>47</td><td>289</td><td>-5.75</td><td>4</td><td>2.1907677773248313</td></tr>\n",
       "<tr><td>Bootes IV</td><td>PS1</td><td>3</td><td>233.689</td><td>43.726</td><td>21.6</td><td>7.6</td><td>--</td><td>0.64</td><td>209</td><td>277</td><td>-4.53</td><td>5</td><td>0.11078972597034299</td></tr>\n",
       "<tr><td>Canes Venatici I</td><td>PS1</td><td>4</td><td>202.0091</td><td>33.5521</td><td>21.7</td><td>7.12</td><td>--</td><td>0.44</td><td>218</td><td>338</td><td>-8.8</td><td>3</td><td>0.10183078066052</td></tr>\n",
       "<tr><td>Canes Venatici II</td><td>PS1</td><td>4</td><td>194.2927</td><td>34.3226</td><td>21.0</td><td>1.52</td><td>--</td><td>0.4</td><td>160</td><td>55</td><td>-5.17</td><td>3</td><td>0.18903929766056846</td></tr>\n",
       "<tr><td>Carina</td><td>--</td><td>4</td><td>100.4065</td><td>-50.9593</td><td>20.1</td><td>10.1</td><td>--</td><td>0.36</td><td>105</td><td>248</td><td>-9.43</td><td>3</td><td>0.4389483918467621</td></tr>\n",
       "<tr><td>...</td><td>...</td><td>...</td><td>...</td><td>...</td><td>...</td><td>...</td><td>...</td><td>...</td><td>...</td><td>...</td><td>...</td><td>...</td><td>...</td></tr>\n",
       "<tr><td>Triangulum II</td><td>PS1</td><td>3</td><td>33.3252</td><td>36.1702</td><td>17.4</td><td>1.99</td><td>--</td><td>0.46</td><td>30</td><td>13</td><td>-1.6</td><td>3</td><td>5.377117800122836</td></tr>\n",
       "<tr><td>Tucana II</td><td>DES</td><td>4</td><td>342.9796</td><td>-58.5689</td><td>18.8</td><td>12.59</td><td>--</td><td>0.39</td><td>58</td><td>165</td><td>-3.8</td><td>25</td><td>1.4385868074050392</td></tr>\n",
       "<tr><td>Tucana III</td><td>DES</td><td>3</td><td>359.15</td><td>-59.6</td><td>17.0</td><td>6.0</td><td>--</td><td>0.0</td><td>25</td><td>44</td><td>-2.4</td><td>8</td><td>7.743049632176883</td></tr>\n",
       "<tr><td>Tucana IV</td><td>DES</td><td>4</td><td>0.73</td><td>-60.85</td><td>18.4</td><td>11.8</td><td>--</td><td>0.4</td><td>48</td><td>128</td><td>-3.5</td><td>8</td><td>2.100436640672983</td></tr>\n",
       "<tr><td>Tucana V</td><td>DES</td><td>3</td><td>354.35</td><td>-63.27</td><td>18.7</td><td>1.8</td><td>--</td><td>0.7</td><td>55</td><td>16</td><td>-1.6</td><td>8</td><td>1.5998036430117528</td></tr>\n",
       "<tr><td>Ursa Major I</td><td>PS1</td><td>4</td><td>158.7706</td><td>51.9479</td><td>19.9</td><td>8.31</td><td>--</td><td>0.59</td><td>97</td><td>151</td><td>-5.12</td><td>3</td><td>0.5143379764173187</td></tr>\n",
       "<tr><td>Ursa Major II</td><td>PS1</td><td>4</td><td>132.8726</td><td>63.1335</td><td>17.5</td><td>13.8</td><td>--</td><td>0.56</td><td>32</td><td>85</td><td>-4.25</td><td>3</td><td>4.725982441514211</td></tr>\n",
       "<tr><td>Ursa Minor</td><td>PS1</td><td>4</td><td>227.242</td><td>67.2221</td><td>19.4</td><td>18.3</td><td>--</td><td>0.55</td><td>76</td><td>272</td><td>-9.03</td><td>3</td><td>0.8378473026507188</td></tr>\n",
       "<tr><td>Virgo I</td><td>PS1</td><td>3</td><td>180.038</td><td>-0.681</td><td>19.8</td><td>1.76</td><td>--</td><td>0.59</td><td>91</td><td>30</td><td>-0.33</td><td>9</td><td>0.5843987465415472</td></tr>\n",
       "<tr><td>Willman 1</td><td>PS1</td><td>4</td><td>162.3436</td><td>51.0501</td><td>17.9</td><td>2.51</td><td>--</td><td>0.47</td><td>38</td><td>20</td><td>-2.53</td><td>3</td><td>3.3513892106028753</td></tr>\n",
       "</table>"
      ],
      "text/plain": [
       "<Table masked=True length=61>\n",
       "       Name       Survey Class ...   VMag  Ref  Example Crab GP luminosity\n",
       "                               ...   mag                    Jy            \n",
       "      str17        str8  int64 ... float64 str6          float64          \n",
       "----------------- ------ ----- ... ------- ---- --------------------------\n",
       "        Antlia II     --     4 ...   -9.03    1        0.27774368802287375\n",
       "      Aquarius II    PS1     4 ...    -4.4    2         0.4149010648242929\n",
       "         Bootes I    PS1     4 ...   -6.02    3          1.110974752091495\n",
       "        Bootes II    PS1     4 ...   -2.94    3          2.743427449042263\n",
       "       Bootes III    PS1     4 ...   -5.75    4         2.1907677773248313\n",
       "        Bootes IV    PS1     3 ...   -4.53    5        0.11078972597034299\n",
       " Canes Venatici I    PS1     4 ...    -8.8    3           0.10183078066052\n",
       "Canes Venatici II    PS1     4 ...   -5.17    3        0.18903929766056846\n",
       "           Carina     --     4 ...   -9.43    3         0.4389483918467621\n",
       "              ...    ...   ... ...     ...  ...                        ...\n",
       "    Triangulum II    PS1     3 ...    -1.6    3          5.377117800122836\n",
       "        Tucana II    DES     4 ...    -3.8   25         1.4385868074050392\n",
       "       Tucana III    DES     3 ...    -2.4    8          7.743049632176883\n",
       "        Tucana IV    DES     4 ...    -3.5    8          2.100436640672983\n",
       "         Tucana V    DES     3 ...    -1.6    8         1.5998036430117528\n",
       "     Ursa Major I    PS1     4 ...   -5.12    3         0.5143379764173187\n",
       "    Ursa Major II    PS1     4 ...   -4.25    3          4.725982441514211\n",
       "       Ursa Minor    PS1     4 ...   -9.03    3         0.8378473026507188\n",
       "          Virgo I    PS1     3 ...   -0.33    9         0.5843987465415472\n",
       "        Willman 1    PS1     4 ...   -2.53    3         3.3513892106028753"
      ]
     },
     "execution_count": 50,
     "metadata": {},
     "output_type": "execute_result"
    }
   ],
   "source": [
    "data"
   ]
  },
  {
   "cell_type": "code",
   "execution_count": null,
   "metadata": {
    "collapsed": true
   },
   "outputs": [],
   "source": []
  }
 ],
 "metadata": {
  "anaconda-cloud": {},
  "kernelspec": {
   "display_name": "Python [conda env:anaconda3]",
   "language": "python",
   "name": "conda-env-anaconda3-py"
  },
  "language_info": {
   "codemirror_mode": {
    "name": "ipython",
    "version": 3
   },
   "file_extension": ".py",
   "mimetype": "text/x-python",
   "name": "python",
   "nbconvert_exporter": "python",
   "pygments_lexer": "ipython3",
   "version": "3.5.6"
  }
 },
 "nbformat": 4,
 "nbformat_minor": 2
}
