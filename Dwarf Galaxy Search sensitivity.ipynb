{
 "cells": [
  {
   "cell_type": "code",
   "execution_count": 1,
   "metadata": {
    "collapsed": true
   },
   "outputs": [],
   "source": [
    "from astropy import coordinates,units,constants\n",
    "import numpy as np\n",
    "import matplotlib.pyplot as plt\n",
    "from astropy.io import ascii"
   ]
  },
  {
   "cell_type": "code",
   "execution_count": 38,
   "metadata": {
    "collapsed": false
   },
   "outputs": [
    {
     "name": "stdout",
     "output_type": "stream",
     "text": [
      "2.1998650004285607 kpc\n",
      "Crab GP at 10kpc: 238.09877618943915 Jy\n",
      "       Name       Survey Class  RAdeg   ... r1/2  VMag Ref       CrabGP      \n",
      "                                 deg    ...  pc   mag              Jy        \n",
      "----------------- ------ ----- -------- ... ---- ----- --- ------------------\n",
      "        Antlia II     --     4 143.8868 ... 2301 -9.03   1 1.3664989450725389\n",
      "      Aquarius II    PS1     4 338.4813 ...  125  -4.4   2  2.041313238935521\n",
      "         Bootes I    PS1     4   210.02 ...  160 -6.02   3 5.4659957802901555\n",
      "        Bootes II    PS1     4 209.5141 ...   33 -2.94   3 13.497663049287935\n",
      "       Bootes III    PS1     4    209.3 ...  289 -5.75   4  10.77857746443817\n",
      "        Bootes IV    PS1     3  233.689 ...  277 -4.53   5 0.5450854517740875\n",
      " Canes Venatici I    PS1     4 202.0091 ...  338  -8.8   3 0.5010074408497583\n",
      "Canes Venatici II    PS1     4 194.2927 ...   55 -5.17   3 0.9300733444899967\n",
      "           Carina     --     4 100.4065 ...  248 -9.43   3 2.1596260878860694\n",
      "        Carina II     --     4 114.1066 ...   77  -4.5   6  18.37181915041969\n",
      "              ...    ...   ...      ... ...  ...   ... ...                ...\n",
      "    Triangulum II    PS1     3  33.3252 ...   13  -1.6   3 26.455419576604353\n",
      "        Tucana II    DES     4 342.9796 ...  165  -3.8  25  7.077847092432793\n",
      "       Tucana III    DES     3   359.15 ...   44  -2.4   8  38.09580419031027\n",
      "        Tucana IV    DES     4     0.73 ...  128  -3.5   8 10.334148272111074\n",
      "         Tucana V    DES     3   354.35 ...   16  -1.6   8  7.871033923617824\n",
      "     Ursa Major I    PS1     4 158.7706 ...  151 -5.12   3 2.5305428439732083\n",
      "    Ursa Major II    PS1     4 132.8726 ...   85 -4.25   3 23.251833612249918\n",
      "       Ursa Minor    PS1     4  227.242 ...  272 -9.03   3  4.122208729041537\n",
      "          Virgo I    PS1     3  180.038 ...   30 -0.33   9  2.875241832984412\n",
      "        Willman 1    PS1     4 162.3436 ...   20 -2.53   3 16.488834916166148\n",
      "Length = 61 rows\n"
     ]
    }
   ],
   "source": [
    "## load all satellite galaxies\n",
    "data = ascii.read(\"./Drlica-Wagner2020.txt\")\n",
    "\n",
    "## let's calculate the angular size of these galaxies ---## oops they're actually in the column ah\n",
    "distance=np.array(data['D'])## distance of these galaxies in kpc\n",
    "\n",
    "\n",
    "### Crab pulsar let's say 1kJy for a reasonable example?\n",
    "crabgp=1000*units.Jy \n",
    "crabgp=100*units.Jy ## 1.4 GHz based on -3.3 scale\n",
    "crabgp=4.92e3*units.Jy ## 1kJy at 1.4 GHz \n",
    "\n",
    "\n",
    "\n",
    "crab=(7175*units.lightyear).to(units.kpc)\n",
    "print (crab)\n",
    "crab_pf=14*units.mJy.to(units.Jy)\n",
    "\n",
    "vela_pf=1100*units.mJy.to(units.Jy)\n",
    "vela=0.28*units.kpc\n",
    "\n",
    "mockcrab=crabgp*(crab**2)/((distance*units.kpc)**2)\n",
    "print('Crab GP at 10kpc:',crabgp*crab**2/(10*units.kpc)**2)\n",
    "\n",
    "data.add_column(col=mockcrab,name='CrabGP')\n",
    "print (data) ## if you want to have a look at the whole table"
   ]
  },
  {
   "cell_type": "code",
   "execution_count": 39,
   "metadata": {
    "collapsed": false
   },
   "outputs": [
    {
     "data": {
      "text/html": [
       "<i>Table masked=True length=1</i>\n",
       "<table id=\"table140071244490288\" class=\"table-striped table-bordered table-condensed\">\n",
       "<thead><tr><th>Name</th><th>D</th><th>col2</th></tr></thead>\n",
       "<thead><tr><th></th><th>kpc</th><th>Jy</th></tr></thead>\n",
       "<thead><tr><th>str17</th><th>int64</th><th>float64</th></tr></thead>\n",
       "<tr><td>Sagittarius</td><td>26</td><td>35.221712454059045</td></tr>\n",
       "</table>"
      ],
      "text/plain": [
       "<Table masked=True length=1>\n",
       "    Name      D          col2       \n",
       "             kpc          Jy        \n",
       "   str17    int64      float64      \n",
       "----------- ----- ------------------\n",
       "Sagittarius    26 35.221712454059045"
      ]
     },
     "execution_count": 39,
     "metadata": {},
     "output_type": "execute_result"
    }
   ],
   "source": [
    "data['Name', \"D\",'CrabGP'][data[\"Name\"]=='Sagittarius']\n"
   ]
  },
  {
   "cell_type": "code",
   "execution_count": 40,
   "metadata": {
    "collapsed": false
   },
   "outputs": [],
   "source": [
    "hi_query=np.loadtxt('query.txt',dtype=str,delimiter='\\t')[1:]\n",
    "#name          halpha_mag      h1_21_cm_mag                log_h1_mass\n",
    "logh1mass=hi_query.T[-1]\n"
   ]
  },
  {
   "cell_type": "code",
   "execution_count": 41,
   "metadata": {
    "collapsed": false,
    "scrolled": false
   },
   "outputs": [
    {
     "name": "stdout",
     "output_type": "stream",
     "text": [
      "[ 1.36649895  2.04131324  5.46599578 13.49766305  2.15962609 18.37181915\n",
      " 30.36974186 12.29849051  1.73934382  0.16488835  1.10185004  1.36649895\n",
      "  3.81507413 30.36974186  9.52395105  0.36905384  0.43857646  1.00395841\n",
      "  0.75147954  0.51508659  3.45621681  0.71881046 26.45541958 35.22171245\n",
      "  5.00102449  3.37441576 45.00922045  3.21929119  6.19403684  7.07784709\n",
      " 10.33414827] Jy\n",
      "Bootes I\n"
     ]
    },
    {
     "data": {
      "text/plain": [
       "masked_BaseColumn(data=[False, False,  True, False, False, False, False,\n",
       "                        False, False, False, False, False, False, False,\n",
       "                        False, False, False, False, False, False, False,\n",
       "                        False, False, False, False, False, False, False,\n",
       "                        False, False, False],\n",
       "                  mask=False,\n",
       "            fill_value='N/A')"
      ]
     },
     "execution_count": 41,
     "metadata": {},
     "output_type": "execute_result"
    }
   ],
   "source": [
    "### filter parkes sample\n",
    "##parkes dec -32.99839\n",
    "pks_targets=data[(data['DEdeg']<(-32.99839+90-30.25))*(data['Class']==4)]\n",
    "# print(pks_targets)\n",
    "print(pks_targets['CrabGP'])\n",
    "f=open(\"satellite gal names.txt\",'w')\n",
    "for i in pks_targets['RAdeg','DEdeg']:\n",
    "    f.write(str(i[0])+\" \"+str(i[1])+\"; \")\n",
    "#     print(i[0],i[1])\n",
    "f.close()\n",
    "\n",
    "# for i in pks_targets:\n",
    "#     print(i[\"CrabGP\"])\n",
    "print(hi_query[0][0])\n",
    "pks_targets[\"Name\"]==hi_query[0][0]"
   ]
  },
  {
   "cell_type": "code",
   "execution_count": 42,
   "metadata": {
    "collapsed": false
   },
   "outputs": [
    {
     "data": {
      "image/png": "[encoded data removed]",
      "text/plain": [
       "<Figure size 432x288 with 1 Axes>"
      ]
     },
     "metadata": {},
     "output_type": "display_data"
    },
    {
     "data": {
      "image/png": "[encoded data removed]",
      "text/plain": [
       "<Figure size 432x288 with 1 Axes>"
      ]
     },
     "metadata": {},
     "output_type": "display_data"
    }
   ],
   "source": [
    "plt.hist(pks_targets['ah'],bins=30)\n",
    "plt.xlabel(\"Arcmin\")\n",
    "plt.show()\n",
    "plt.hist(pks_targets['D'],bins=30)\n",
    "plt.xlabel(\"kpc\")\n",
    "plt.show()"
   ]
  },
  {
   "cell_type": "code",
   "execution_count": 43,
   "metadata": {
    "collapsed": false
   },
   "outputs": [
    {
     "name": "stdout",
     "output_type": "stream",
     "text": [
      "Parkes Radio Telescope UWL\n",
      "0.05081868107721053 Jy ms for single pulse total\n",
      "4.599581952083462 Jy ms\n",
      "1 hour integration sensitivity 2.678379664828073e-05\n"
     ]
    }
   ],
   "source": [
    "###radiometer equation\n",
    "def radiofunc(sigma,tsys,tsky,G,B,tobs):\n",
    "    return (sigma*(tsys+tsky))/(G*np.sqrt(2*B*tobs))\n",
    "### an sefd way of estimation\n",
    "def sefd_rms(sigma,sefd,tobs,b):\n",
    "    return (sefd/np.sqrt(tobs*b)*sigma)\n",
    "\n",
    "tsky=2.5 ###kelvin\n",
    "\n",
    "\n",
    "###parkes telescope UWL\n",
    "pks_tsys=21\n",
    "pks_g=1.8\n",
    "#pks_sefd=29\n",
    "pks_b=(4-0.7)*1e9 ###Hz\n",
    "\n",
    "single_bw=pks_b/8192\n",
    "tobs=0.001 ###width or integration time ##seconds\n",
    "print(\"Parkes Radio Telescope UWL\")\n",
    "pks_sens=radiofunc(10,pks_tsys,tsky,pks_g,pks_b,tobs)\n",
    "singlechan_sens=radiofunc(10,pks_tsys,tsky,pks_g,single_bw,tobs)\n",
    "\n",
    "print(pks_sens,\"Jy ms for single pulse total\")\n",
    "print(singlechan_sens, \"Jy ms\")\n",
    "\n",
    "print(\"1 hour integration sensitivity\",radiofunc(10,pks_tsys,tsky,pks_g,pks_b,3600) )"
   ]
  },
  {
   "cell_type": "code",
   "execution_count": 66,
   "metadata": {
    "collapsed": false
   },
   "outputs": [
    {
     "name": "stdout",
     "output_type": "stream",
     "text": [
      "one kilojansky pulse every 33.3924123 seconds\n",
      "1.4 GHz flux 0.1538930516681145\n",
      "1kJy 1.4 GHz flux- ---> translates to 6.498019170849886\n"
     ]
    },
    {
     "data": {
      "image/png": "[encoded data removed]",
      "text/plain": [
       "<Figure size 432x288 with 1 Axes>"
      ]
     },
     "metadata": {},
     "output_type": "display_data"
    },
    {
     "data": {
      "image/png": "[encoded data removed]",
      "text/plain": [
       "<Figure size 432x288 with 1 Axes>"
      ]
     },
     "metadata": {},
     "output_type": "display_data"
    }
   ],
   "source": [
    "#Crab GP\n",
    "#1 kJy ms pulse ~ 0.1% of all rotations\n",
    "# crab period 0.0333924123 s\n",
    "\n",
    "tobs_1p=0.0333924123/0.001\n",
    "print (\"one kilojansky pulse every\",tobs_1p,\"seconds\")\n",
    "\n",
    "plt.plot(np.arange(0.7,4,0.1),tobs_1p*(np.arange(0.7,4,0.1)/0.7)**(-2.7))\n",
    "plt.ylabel(\"Time (Seconds)\")\n",
    "\n",
    "# plt.plot(np.arange(0.7,4,0.1),1*(np.arange(0.7,4,0.1)/0.7)**(-2.3))\n",
    "# plt.ylabel(\"Flux Jy\")\n",
    "plt.xlabel(\"Frequency (GHz)\")\n",
    "plt.figure()\n",
    "plt.plot(np.arange(0.7,4,0.1),1*(np.arange(0.7,4,0.1)/0.7)**(-2.7))\n",
    "print (\"1.4 GHz flux\",1*2**(-2.7))\n",
    "print (\"1kJy 1.4 GHz flux- ---> translates to\",1/2**(-2.7))\n",
    "\n",
    "plt.xlabel(\"Frequency (GHz)\")\n",
    "plt.ylabel(\"Flux (kJy)\")\n",
    "plt.show()"
   ]
  },
  {
   "cell_type": "code",
   "execution_count": 45,
   "metadata": {
    "collapsed": false
   },
   "outputs": [
    {
     "name": "stdout",
     "output_type": "stream",
     "text": [
      "gbt fov is 0.03693\n",
      "planned CRAFT-GP total FOV is 3664.353671 deg $^2$\n",
      "real CRAFT-GP total coverage is 34692.451599 deg $^2$ hrs\n",
      "7.694598626706474e-22\n"
     ]
    }
   ],
   "source": [
    "###survey times in seconds\n",
    "\n",
    "pmbs_time=2100\n",
    "htru_time=4300\n",
    "askap_t=10*3600 ##hrs\n",
    "superb_t=560\n",
    "\n",
    "utmost=9\n",
    "#### craft-gp has 63.117 antenna_days\n",
    "gp_total=63.117*24 ###hours\n",
    "####parkes and ASKAP FOV\n",
    "askap=22.9022104447\n",
    "parkes=0.5558873668\n",
    "palfa=0.01713858784 ##3.35 arcmin (3.35/2/60)^2*7*pi\n",
    "gbt=0.03692682 ##13 arcmin (3.35/2/60)^2*7*pi\n",
    "print(\"gbt fov is %.5f\"%((13.01/2/60)**2*np.pi))\n",
    "print(\"planned CRAFT-GP total FOV is %f deg $^2$\"%(askap*160))\n",
    "print(\"real CRAFT-GP total coverage is %f deg $^2$ hrs\"%(askap*63.117*24))\n",
    "\n",
    "\n",
    "##### log normal pulse stack distribution\n",
    "\n",
    "def log_normal(sigma,mu,x):\n",
    "    pdf = (np.exp(-(np.log(x) - mu)**2 / (2 * (sigma**2)))/ (x * sigma * np.sqrt(2 * np.pi)))\n",
    "    ##e^(-(log(x) - μ)^2/(2 σ^2))/(sqrt(2 π) σ x)\n",
    "    return pdf\n",
    "\n",
    "def gauss_normal(x):\n",
    "    pdf=np.exp(-(x)**2/(2 * 1**2))/ (1 * np.sqrt(2 * np.pi))\n",
    "    return pdf\n",
    "print(log_normal(0.1,1.0,1))"
   ]
  },
  {
   "cell_type": "code",
   "execution_count": 46,
   "metadata": {
    "collapsed": false
   },
   "outputs": [
    {
     "name": "stdout",
     "output_type": "stream",
     "text": [
      "17.62 3.6\n",
      "0.3306227040223175\n"
     ]
    },
    {
     "data": {
      "image/png": "[encoded data removed]",
      "text/plain": [
       "<Figure size 576x648 with 1 Axes>"
      ]
     },
     "metadata": {},
     "output_type": "display_data"
    },
    {
     "name": "stdout",
     "output_type": "stream",
     "text": [
      "40\n"
     ]
    }
   ],
   "source": [
    "plt.figure(figsize=(8,9))\n",
    "from scipy import signal\n",
    "b_rate=np.loadtxt('../cat/b_rates')\n",
    "b_wd=np.loadtxt('../cat/b_wd')\n",
    "b_flux=np.loadtxt('../cat/b_rates_flux')\n",
    "\n",
    "oc=b_rate#/3600\n",
    "flux=b_flux/1000\n",
    "\n",
    "max=np.where(flux==flux.max())[0][0]\n",
    "###oc[max],flux[max]\n",
    "###normalized energy value is\n",
    "lgn_e=flux[max]\n",
    "print(oc[max],lgn_e)\n",
    "\n",
    "lgn_sig=0.15\n",
    "lgn_mu=1.5\n",
    "\n",
    "distr=np.arange(0.01,10,0.01)\n",
    "#fluxx3=log_normal(lgn_sig,lgn_mu,5)\n",
    "fdistr=log_normal(lgn_sig,lgn_mu,distr)\n",
    "distr=np.arange(0.01,10,0.01)\n",
    "distr2=np.arange(-3,3,0.01)\n",
    "\n",
    "#fluxx3=log_normal(lgn_sig,lgn_mu,3)\n",
    "fdistr=log_normal(lgn_sig,lgn_mu,distr)\n",
    "g_noise=gauss_normal(distr2)\n",
    "\n",
    "\n",
    "max=np.where(flux==flux.max())[0][0]\n",
    "\n",
    "\n",
    "\n",
    "res=signal.convolve(fdistr, g_noise, mode='same') / sum(fdistr)\n",
    "#print (distr2)\n",
    "apos=np.where(res==res.max())\n",
    "x_res=np.linspace(0,10,len(res))\n",
    "dpos=x_res[apos]-1\n",
    "x_res=x_res-dpos\n",
    "#print(np.intersect1d(np.where(x_res>5),np.where(x_res<5.01)))\n",
    "sig5pos=np.intersect1d(np.where(x_res>5),np.where(x_res<5.01))[0]\n",
    "print(res.max())\n",
    "#print(sum(fdistr*distr))\n",
    "#print(fluxx3,fluxx3*oc[max])\n",
    "\n",
    "\n",
    "plt.xscale('log')\n",
    "plt.yscale('log')\n",
    "plt.ylabel('Flux Density (Jy)')\n",
    "plt.xlabel(\"Telescope $\\\\tau_{Obs}$ (Hrs$^{-1}$)\")\n",
    "\n",
    "\n",
    "crab_rate=1/(tobs_1p*(1.4/0.7)**(-2.3))*3600\n",
    "# plt.plot([crab_rate,crab_rate],[1e-2,1000],label='rate at 1.4GHz crab 1kJy GP')\n",
    "k=200\n",
    "for i in pks_targets:\n",
    "    plt.plot([crab_rate-10,crab_rate+100],[i[\"CrabGP\"].value,i[\"CrabGP\"].value])\n",
    "    plt.annotate(i[\"Name\"],(crab_rate+2*k,i[\"CrabGP\"].value))\n",
    "    \n",
    "plt.plot([1e-1,1e6],[pks_sens,pks_sens],'--',c='C0',linewidth=3,label=\"Parkes 10 sigma pulse fluence\")\n",
    "plt.scatter(oc[max],flux[max],s=100,marker=\"d\",c='red',label='Brightest RRAT')\n",
    "#plt.plot(oc[max]*fdistr,flux[max]*distr)\n",
    "plt.plot(oc[max]*res,flux[max]*x_res,label=\"pdf distribution * measured rate\")\n",
    "plt.xlim(1e-1,1e6)\n",
    "plt.ylim(1e-2,1.5e2)\n",
    "#plt.grid(True)\n",
    "plt.legend(loc=3)\n",
    "plt.tight_layout()\n",
    "plt.savefig(\"rrat_space.pdf\")\n",
    "plt.show()\n",
    "#print(pmbs_y)\n",
    "print(len(oc))"
   ]
  },
  {
   "cell_type": "code",
   "execution_count": 64,
   "metadata": {
    "collapsed": false
   },
   "outputs": [
    {
     "name": "stdout",
     "output_type": "stream",
     "text": [
      "Antlia II\n",
      "a value 76.2\n",
      "b value 70.4839702627484\n",
      "pointings needed 12.700000000000001  x  11.747328377124733  =  182.0\n",
      "Aquarius II\n",
      "a value 5.1\n",
      "b value 4.696155768285375\n",
      "pointings needed 0.85  x  0.7826926280475625  =  4.0\n",
      "Bootes I\n",
      "a value 9.97\n",
      "b value 9.51077383812695\n",
      "pointings needed 1.6616666666666668  x  1.5851289730211582  =  9.0\n",
      "Bootes II\n",
      "a value 3.17\n",
      "b value 3.0693393018693778\n",
      "pointings needed 0.5283333333333333  x  0.511556550311563  =  4.0\n",
      "Carina\n",
      "a value 10.1\n",
      "b value 9.422818262070006\n",
      "pointings needed 1.6833333333333333  x  1.570469710345001  =  9.0\n",
      "Carina II\n",
      "a value 8.69\n",
      "b value 8.17229703571768\n",
      "pointings needed 1.4483333333333333  x  1.3620495059529467  =  4.0\n",
      "Carina III\n",
      "a value 3.75\n",
      "b value 3.1318674540918874\n",
      "pointings needed 0.625  x  0.5219779090153146  =  4.0\n",
      "Coma Berenices\n",
      "a value 5.64\n",
      "b value 5.239739092741164\n",
      "pointings needed 0.94  x  0.873289848790194  =  4.0\n",
      "Crater II\n",
      "a value 31.2\n",
      "b value 31.04360803772654\n",
      "pointings needed 5.2  x  5.173934672954423  =  36.0\n",
      "Eridanus II\n",
      "a value 1.77\n",
      "b value 1.6580469685747747\n",
      "pointings needed 0.295  x  0.2763411614291291  =  1.0\n",
      "Fornax\n",
      "a value 19.6\n",
      "b value 18.75772224978289\n",
      "pointings needed 3.266666666666667  x  3.1262870416304818  =  16.0\n",
      "Hercules\n",
      "a value 5.63\n",
      "b value 4.075046737155293\n",
      "pointings needed 0.9383333333333334  x  0.6791744561925488  =  4.0\n",
      "Horologium I\n",
      "a value 1.59\n",
      "b value 1.5309479122426082\n",
      "pointings needed 0.265  x  0.25515798537376805  =  1.0\n",
      "Hydrus I\n",
      "a value 7.42\n",
      "b value 7.254544283412983\n",
      "pointings needed 1.2366666666666666  x  1.2090907139021638  =  4.0\n",
      "LMC\n",
      "a value 323.0\n",
      "b value 319.3455769225558\n",
      "pointings needed 53.833333333333336  x  53.22426282042596  =  2970.0\n",
      "Leo I\n",
      "a value 3.65\n",
      "b value 3.481878085171852\n",
      "pointings needed 0.6083333333333333  x  0.5803130141953087  =  4.0\n",
      "Leo II\n",
      "a value 2.52\n",
      "b value 2.51381841826334\n",
      "pointings needed 0.42  x  0.41896973637722335  =  1.0\n",
      "Leo IV\n",
      "a value 2.54\n",
      "b value 2.5030279183421027\n",
      "pointings needed 0.42333333333333334  x  0.41717131972368376  =  1.0\n",
      "Leo V\n",
      "a value 1.0\n",
      "b value 0.9028288874421332\n",
      "pointings needed 0.16666666666666666  x  0.15047148124035553  =  1.0\n",
      "Pegasus III\n",
      "a value 0.85\n",
      "b value 0.786238513429608\n",
      "pointings needed 0.14166666666666666  x  0.131039752238268  =  1.0\n",
      "Phoenix II\n",
      "a value 1.49\n",
      "b value 1.1061180361968608\n",
      "pointings needed 0.24833333333333332  x  0.18435300603281013  =  1.0\n",
      "Pisces II\n",
      "a value 1.12\n",
      "b value 1.0532764879175838\n",
      "pointings needed 0.18666666666666668  x  0.17554608131959729  =  1.0\n",
      "Reticulum II\n",
      "a value 5.52\n",
      "b value 4.496682937455119\n",
      "pointings needed 0.9199999999999999  x  0.7494471562425198  =  4.0\n",
      "Sagittarius\n",
      "a value 342.0\n",
      "b value 262.7842187042441\n",
      "pointings needed 57.0  x  43.79736978404068  =  2610.0\n",
      "Sagittarius II\n",
      "a value 1.6\n",
      "b value 1.591979899370592\n",
      "pointings needed 0.26666666666666666  x  0.265329983228432  =  1.0\n",
      "Sculptor\n",
      "a value 11.17\n",
      "b value 10.544267010560763\n",
      "pointings needed 1.8616666666666666  x  1.7573778350934603  =  9.0\n",
      "Segue 1\n",
      "a value 3.62\n",
      "b value 3.417210973879137\n",
      "pointings needed 0.6033333333333334  x  0.5695351623131896  =  4.0\n",
      "Sextans\n",
      "a value 16.5\n",
      "b value 15.739996823379604\n",
      "pointings needed 2.75  x  2.623332803896601  =  16.0\n",
      "SMC\n",
      "a value 151.0\n",
      "b value 138.39378598766638\n",
      "pointings needed 25.166666666666668  x  23.065630997944396  =  624.0\n",
      "Tucana II\n",
      "a value 12.59\n",
      "b value 11.59305904366919\n",
      "pointings needed 2.098333333333333  x  1.9321765072781982  =  9.0\n",
      "Tucana IV\n",
      "a value 11.8\n",
      "b value 10.814878640095783\n",
      "pointings needed 1.9666666666666668  x  1.8024797733492972  =  9.0\n"
     ]
    }
   ],
   "source": [
    "for name in pks_targets[\"Name\"]:\n",
    "    print (name)\n",
    "    mask=pks_targets[\"Name\"]==name\n",
    "#     print (pks_targets[mask][\"ah\",\"e\"])\n",
    "    a=pks_targets[mask][\"ah\"][0]\n",
    "    e=pks_targets[mask][\"e\"][0]\n",
    "    b=np.sqrt(a**2*(1-e**2))\n",
    "    print ('a value',a)\n",
    "    print ('b value',b)\n",
    "    print (\"pointings needed\",a/6,' x ',b/6,' = ', np.round(a/6+1)*np.round(b/6+1))"
   ]
  },
  {
   "cell_type": "code",
   "execution_count": null,
   "metadata": {
    "collapsed": true
   },
   "outputs": [],
   "source": [
    "#LeoIV "
   ]
  }
 ],
 "metadata": {
  "anaconda-cloud": {},
  "kernelspec": {
   "display_name": "Python [default]",
   "language": "python",
   "name": "python3"
  },
  "language_info": {
   "codemirror_mode": {
    "name": "ipython",
    "version": 3
   },
   "file_extension": ".py",
   "mimetype": "text/x-python",
   "name": "python",
   "nbconvert_exporter": "python",
   "pygments_lexer": "ipython3",
   "version": "3.5.6"
  }
 },
 "nbformat": 4,
 "nbformat_minor": 2
}
