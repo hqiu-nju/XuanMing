{
 "cells": [
  {
   "cell_type": "code",
   "execution_count": 2,
   "metadata": {},
   "outputs": [],
   "source": [
    "# the purpose of this notebook is to check the sensitivity for Parkes to search for pulses in dwarf galaxies\n",
    "# list of clusters RA Dec distance(kpc)\n",
    "# Phoenix 01:51 -44 439 \n",
    "# Sculptor 01:00 -33 90 \n",
    "# Fornax 02:40 -34 130\n",
    "# Carina 06:41 -50 86\n",
    "# CanisMajor 07:12  -27 7\n",
    "# Sextans 10:13 -01 79\n",
    "# Sagittarius 18:55 -30 24\n",
    "# NGC6822 19:44 -14 500\n",
    "from astropy import coordinates,units,constants\n",
    "import numpy as np\n",
    "import matplotlib.pyplot as plt\n"
   ]
  },
  {
   "cell_type": "code",
   "execution_count": null,
   "metadata": {},
   "outputs": [],
   "source": []
  },
  {
   "cell_type": "code",
   "execution_count": null,
   "metadata": {},
   "outputs": [],
   "source": []
  }
 ],
 "metadata": {
  "kernelspec": {
   "display_name": "Python [conda env:anaconda3]",
   "language": "python",
   "name": "conda-env-anaconda3-py"
  },
  "language_info": {
   "codemirror_mode": {
    "name": "ipython",
    "version": 3
   },
   "file_extension": ".py",
   "mimetype": "text/x-python",
   "name": "python",
   "nbconvert_exporter": "python",
   "pygments_lexer": "ipython3",
   "version": "3.6.8"
  }
 },
 "nbformat": 4,
 "nbformat_minor": 2
}
